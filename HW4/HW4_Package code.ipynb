{
 "cells": [
  {
   "cell_type": "code",
   "execution_count": 1,
   "metadata": {},
   "outputs": [],
   "source": [
    "import pandas as pd\n",
    "import numpy as np\n",
    "import math\n",
    "from scipy.stats import norm\n",
    "\n",
    "def CPprice():\n",
    "    # Step 1: Ask user to input the data.\n",
    "    print(\"What is the current Stock Price?\")\n",
    "    s = float(input())\n",
    "    print(\"What is the Volatility of the stock?(% p.a.)\")\n",
    "    v = float(input())/100\n",
    "    print(\"How much will per dividend pay?\")\n",
    "    d = int(input())\n",
    "    print(\"How many times the stock would pay dividend(s) per year?\")\n",
    "    n = int(input())\n",
    "    if n>1:\n",
    "        m = pd.Series([0] * n)\n",
    "        for i in list(range(n)):\n",
    "            print(\"How many months after will the stock pay the dividend? Please enter one at a time.\")\n",
    "            m[i] = int(input())\n",
    "    print(\"What is the riskless interest rate per period? (% p.a.)\")\n",
    "    r = float(input())/100\n",
    "    print(\"What is the strike price?\")\n",
    "    x = float(input())\n",
    "    print(\"How long will the bond become mature? (in months)\")\n",
    "    t = float(input())/12\n",
    "    \n",
    "    # Step 2: Calculate the true option price by subtracting total discounted dividends from the current market price.\n",
    "    D = 0\n",
    "    for i in list(range(n)):\n",
    "        D = D + d * math.exp(-r*(m[i]/12))\n",
    "    \n",
    "    s_hat = s - D\n",
    "    \n",
    "    \n",
    "    # Step 3: Calculate call price from the Black-Scholes formula.\n",
    "    d1 = (np.log(s_hat/x) + (r + 0.5 * v**2)*t) / (v * t**0.5)\n",
    "    d2 = d1 - v * t**0.5\n",
    "    c = s_hat*norm.cdf(d1) - x*math.exp(-r*t)*norm.cdf(d2)\n",
    "    \n",
    "    # Step 4: Use put-call parity to calculate put price from the call price\n",
    "    p = c + x * math.exp(-r*t) - s_hat\n",
    "    \n",
    "    # Step 5: Show the result\n",
    "    print(\"The value of the European call option according to the given conditions is: \\n{}.\".format(c))\n",
    "    print(\"The value of the European put option according to the given conditions is: \\n{}.\".format(p))"
   ]
  },
  {
   "cell_type": "code",
   "execution_count": 2,
   "metadata": {},
   "outputs": [
    {
     "name": "stdout",
     "output_type": "stream",
     "text": [
      "What is the current Stock Price?\n",
      "75\n",
      "What is the Volatility of the stock?(% p.a.)\n",
      "35\n",
      "How much will per dividend pay?\n",
      "1\n",
      "How many times the stock would pay dividend(s) per year?\n",
      "2\n",
      "How many months after will the stock pay the dividend? Please enter one at a time.\n",
      "1\n",
      "How many months after will the stock pay the dividend? Please enter one at a time.\n",
      "4\n",
      "What is the riskless interest rate per period? (% p.a.)\n",
      "6\n",
      "What is the strike price?\n",
      "65\n",
      "How long will the bond become mature? (in months)\n",
      "6\n",
      "The value of the European call option according to the given conditions is: \n",
      "12.806183806810672.\n",
      "The value of the European put option according to the given conditions is: \n",
      "2.860354639963134.\n"
     ]
    }
   ],
   "source": [
    "CPprice()"
   ]
  }
 ],
 "metadata": {
  "kernelspec": {
   "display_name": "Python 3",
   "language": "python",
   "name": "python3"
  },
  "language_info": {
   "codemirror_mode": {
    "name": "ipython",
    "version": 3
   },
   "file_extension": ".py",
   "mimetype": "text/x-python",
   "name": "python",
   "nbconvert_exporter": "python",
   "pygments_lexer": "ipython3",
   "version": "3.7.3"
  }
 },
 "nbformat": 4,
 "nbformat_minor": 4
}
