{
 "cells": [
  {
   "cell_type": "markdown",
   "metadata": {},
   "source": [
    "# ● Goal\n",
    "___\n",
    "The goal of this week's HW is to generate a call/put value based on multiple continuous outcomes of stock price in each period (in HW3 we generate call/put price based on binary outcome of stock price in each period). <br/>\n",
    "<br/>\n",
    "I will display my output given conditions users given at the last part of the package."
   ]
  },
  {
   "cell_type": "markdown",
   "metadata": {},
   "source": [
    "# ● Overall work flow\n",
    "***\n",
    "To generate the call/put value, my work flow can be seperared into 5 sections as below.<br />\n",
    "## Step 1 \n",
    "請使用者輸入資料。\n",
    "## Step 2\n",
    "計算扣除紅利之後選擇權真正的價格。(必須先將全年收到的紅利全部折回本期，並加總成為總紅利，再從今日選擇權價格中扣除)\n",
    "## Step 3\n",
    "根據Brownian Motion模擬T期後的市場價格，代入Black-Scholes formula中計算Call price(本期)。\n",
    "## Step 4\n",
    "根據Put-Call parity，將步驟三計算出的Call price代入求得Put price。\n",
    "## Step 5\n",
    "呈現結果。"
   ]
  },
  {
   "cell_type": "markdown",
   "metadata": {},
   "source": [
    "# ● Step by step presentation\n",
    "___\n",
    "## Step 1\n",
    "請使用者輸入計算條件。"
   ]
  },
  {
   "cell_type": "code",
   "execution_count": 9,
   "metadata": {},
   "outputs": [],
   "source": [
    "import pandas as pd\n",
    "import numpy as np\n",
    "import math\n",
    "from scipy.stats import norm"
   ]
  },
  {
   "cell_type": "code",
   "execution_count": 4,
   "metadata": {},
   "outputs": [
    {
     "name": "stdout",
     "output_type": "stream",
     "text": [
      "What is the current Stock Price?\n",
      "75\n",
      "What is the Volatility of the stock?(% p.a.)\n",
      "35\n",
      "How much will per dividend pay?\n",
      "1\n",
      "How many times the stock would pay dividend(s) per year?\n",
      "2\n",
      "How many months after will the stock pay the dividend? Please enter one at a time.\n",
      "1\n",
      "How many months after will the stock pay the dividend? Please enter one at a time.\n",
      "4\n",
      "What is the riskless interest rate per period? (% p.a.)\n",
      "6\n",
      "What is the strike price\n",
      "65\n",
      "How long will the bond become mature? (in months)\n",
      "6\n"
     ]
    }
   ],
   "source": [
    "print(\"What is the current Stock Price?\")\n",
    "s = float(input())\n",
    "print(\"What is the Volatility of the stock?(% p.a.)\")\n",
    "v = float(input())/100\n",
    "print(\"How much will per dividend pay?\")\n",
    "d = int(input())\n",
    "print(\"How many times the stock would pay dividend(s) per year?\")\n",
    "n = int(input())\n",
    "if n>1:\n",
    "    m = pd.Series([0] * n)\n",
    "    for i in list(range(n)):\n",
    "        print(\"How many months after will the stock pay the dividend? Please enter one at a time.\")\n",
    "        m[i] = int(input())\n",
    "print(\"What is the riskless interest rate per period? (% p.a.)\")\n",
    "r = float(input())/100\n",
    "print(\"What is the strike price\")\n",
    "x = float(input())\n",
    "print(\"How long will the bond become mature? (in months)\")\n",
    "t = float(input())/12"
   ]
  },
  {
   "cell_type": "markdown",
   "metadata": {},
   "source": [
    "## Step 2\n",
    "將今年收到的紅利全部折回本期，計算總紅利，並從今日選擇權價格中扣除，即為我們預估計選擇權真正的價格。"
   ]
  },
  {
   "cell_type": "code",
   "execution_count": 7,
   "metadata": {},
   "outputs": [
    {
     "data": {
      "text/plain": [
       "1.9752111524994376"
      ]
     },
     "execution_count": 7,
     "metadata": {},
     "output_type": "execute_result"
    }
   ],
   "source": [
    "D = 0\n",
    "for i in list(range(n)):\n",
    "    D = D + d * math.exp(-r*(m[i]/12))\n",
    "D"
   ]
  },
  {
   "cell_type": "code",
   "execution_count": 8,
   "metadata": {},
   "outputs": [
    {
     "data": {
      "text/plain": [
       "73.02478884750056"
      ]
     },
     "execution_count": 8,
     "metadata": {},
     "output_type": "execute_result"
    }
   ],
   "source": [
    "s_hat = s - D\n",
    "s_hat"
   ]
  },
  {
   "cell_type": "markdown",
   "metadata": {},
   "source": [
    "## Step 3\n",
    "根據Brownian Motion模擬T期後的市場價格，代入Black-Scholes formula中計算Call price(本期)。"
   ]
  },
  {
   "cell_type": "code",
   "execution_count": 11,
   "metadata": {},
   "outputs": [
    {
     "data": {
      "text/plain": [
       "0.7153362388600112"
      ]
     },
     "execution_count": 11,
     "metadata": {},
     "output_type": "execute_result"
    }
   ],
   "source": [
    "d1 = (np.log(s_hat/x) + (r + 0.5 * v**2)*t) / (v * t**0.5)\n",
    "d1"
   ]
  },
  {
   "cell_type": "code",
   "execution_count": 12,
   "metadata": {},
   "outputs": [
    {
     "data": {
      "text/plain": [
       "0.46784886544471954"
      ]
     },
     "execution_count": 12,
     "metadata": {},
     "output_type": "execute_result"
    }
   ],
   "source": [
    "d2 = d1 - v * t**0.5\n",
    "d2"
   ]
  },
  {
   "cell_type": "code",
   "execution_count": 15,
   "metadata": {},
   "outputs": [
    {
     "data": {
      "text/plain": [
       "12.806183806810672"
      ]
     },
     "execution_count": 15,
     "metadata": {},
     "output_type": "execute_result"
    }
   ],
   "source": [
    "c = s_hat*norm.cdf(d1) - x*math.exp(-r*t)*norm.cdf(d2)\n",
    "c"
   ]
  },
  {
   "cell_type": "markdown",
   "metadata": {},
   "source": [
    "## Step 4\n",
    "根據Put-Call parity，將步驟三計算出的Call price代入求得Put price。"
   ]
  },
  {
   "cell_type": "code",
   "execution_count": 16,
   "metadata": {},
   "outputs": [
    {
     "data": {
      "text/plain": [
       "2.860354639963134"
      ]
     },
     "execution_count": 16,
     "metadata": {},
     "output_type": "execute_result"
    }
   ],
   "source": [
    "p = c + x * math.exp(-r*t) - s_hat\n",
    "p"
   ]
  },
  {
   "cell_type": "markdown",
   "metadata": {},
   "source": [
    "## Step 5: \n",
    "Show the result."
   ]
  },
  {
   "cell_type": "code",
   "execution_count": 17,
   "metadata": {},
   "outputs": [
    {
     "name": "stdout",
     "output_type": "stream",
     "text": [
      "The value of the European call option according to the given conditions is: \n",
      "12.806183806810672.\n",
      "The value of the European put option according to the given conditions is: \n",
      "2.860354639963134.\n"
     ]
    }
   ],
   "source": [
    "print(\"The value of the European call option according to the given conditions is: \\n{}.\".format(c))\n",
    "print(\"The value of the European put option according to the given conditions is: \\n{}.\".format(p))"
   ]
  }
 ],
 "metadata": {
  "kernelspec": {
   "display_name": "Python 3",
   "language": "python",
   "name": "python3"
  },
  "language_info": {
   "codemirror_mode": {
    "name": "ipython",
    "version": 3
   },
   "file_extension": ".py",
   "mimetype": "text/x-python",
   "name": "python",
   "nbconvert_exporter": "python",
   "pygments_lexer": "ipython3",
   "version": "3.7.3"
  }
 },
 "nbformat": 4,
 "nbformat_minor": 4
}
