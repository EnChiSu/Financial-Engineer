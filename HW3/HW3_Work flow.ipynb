{
 "cells": [
  {
   "cell_type": "markdown",
   "metadata": {},
   "source": [
    "# Goal\n",
    "___\n",
    "The goal of this week's HW is to generate a call/put value table under the concept of Binary Option Price Method. Such as the example below:\n",
    "<img src=\"https://drive.google.com/uc?export=view&id=1c4Nn7m27eRBjF7PiCMcgc0hWf3vZFv26\"  width=\"600\" height=\"600\">"
   ]
  },
  {
   "cell_type": "markdown",
   "metadata": {},
   "source": [
    "# Presentation form\n",
    "---\n",
    "I present the result with three tables. One is for stock price under different periods. Another is for call value under different periods. The other is put value under different periods. Such as the picture below:<br />\n",
    "![](https://drive.google.com/uc?export=view&id=1AQXm5WnumRjWp9uFiCIM1Zg5PJR6WAdi)"
   ]
  },
  {
   "cell_type": "markdown",
   "metadata": {},
   "source": [
    "# Overall work flow\n",
    "***\n",
    "To generate the call/put value, my work flow can be seperared into 3 sections as below.<br />\n",
    "## Step1 \n",
    "請使用者輸入資料，並根據使用者想要計算的期數創造相對應的空矩陣(方便後續儲存計算出來的數值)。\n",
    "## Step2 \n",
    "根據使用者輸入的資料，從第一期開始往後推每一期之不同情況下的股價，直到最後一期。\n",
    "## Step3 \n",
    "根據計算出來最後一期所有可能的股價，可以計算每一種可能性下的報酬，也就是這支選擇權在最後一期時產生的價值，往回推每一期的現值直到第一期\n"
   ]
  },
  {
   "cell_type": "markdown",
   "metadata": {},
   "source": [
    "# Present step by step\n",
    "___\n",
    "## Step1\n",
    "Ask users to input the Stock Price, folds that stock will increase per rise, folds that stock will decrease per decline, the continuously compounded riskless rate per period, the strike price, and the number of periods.\n"
   ]
  },
  {
   "cell_type": "code",
   "execution_count": 21,
   "metadata": {},
   "outputs": [],
   "source": [
    "import pandas as pd\n",
    "import numpy as np\n",
    "import math"
   ]
  },
  {
   "cell_type": "code",
   "execution_count": 47,
   "metadata": {},
   "outputs": [
    {
     "name": "stdout",
     "output_type": "stream",
     "text": [
      "What is the Stock Price?\n",
      "160\n",
      "How many folds the stock will increase per peirod if it goes up?\n",
      "1.5\n",
      "How many folds the stock will decrease per period if it goes down?\n",
      "0.5\n",
      "What is the continuously compounded riskless rate per period? (% p.a.)\n",
      "18.232\n",
      "What is the strike price\n",
      "150\n",
      "How many periods you would like to consider?\n",
      "3\n"
     ]
    }
   ],
   "source": [
    "print(\"What is the Stock Price?\")\n",
    "S = float(input())\n",
    "print(\"How many folds the stock will increase per peirod if it goes up?\")\n",
    "u = float(input())\n",
    "print(\"How many folds the stock will decrease per period if it goes down?\")\n",
    "d = float(input())\n",
    "print(\"What is the continuously compounded riskless rate per period? (% p.a.)\")\n",
    "r = float(input())/100\n",
    "print(\"What is the strike price\")\n",
    "X = float(input())\n",
    "print(\"How many periods you would like to consider?\")\n",
    "n = int(input())\n",
    "R=math.exp(r)\n",
    "p=(R-d)/(u-d)"
   ]
  },
  {
   "cell_type": "code",
   "execution_count": 1,
   "metadata": {},
   "outputs": [],
   "source": [
    "# assume the user input Current Bond Price = 1029, Bond Par Value = 1000, Bond Coupon Rate = 5%, Years to Maturity=1.5, and frequency of payment per year=2.\n",
    "import pandas as pd\n",
    "import math\n",
    "\n",
    "S=160 \n",
    "u=1.5\n",
    "d=0.5\n",
    "r=18.232/100\n",
    "X=150\n",
    "n=3\n",
    "R=math.exp(r)\n",
    "p=(R-d)/(u-d)"
   ]
  },
  {
   "cell_type": "markdown",
   "metadata": {},
   "source": [
    "## Step 2\n",
    "根據使用者輸入的資料，從第一期開始往後推每一期之不同情況下的**股價**，直到最後一期。"
   ]
  },
  {
   "cell_type": "code",
   "execution_count": 28,
   "metadata": {},
   "outputs": [
    {
     "data": {
      "text/plain": [
       "['第0期', '第1期', '第2期', '第3期']"
      ]
     },
     "execution_count": 28,
     "metadata": {},
     "output_type": "execute_result"
    }
   ],
   "source": [
    "# produce row index for the dataframe\n",
    "row_name = list(range(int(n)+1))\n",
    "row_name = [x for x in row_name]\n",
    "row_name = ['第'+ str(x) +'期' for x in row_name]\n",
    "row_name"
   ]
  },
  {
   "cell_type": "code",
   "execution_count": 29,
   "metadata": {},
   "outputs": [
    {
     "data": {
      "text/plain": [
       "['下跌0次', '下跌1次', '下跌2次', '下跌3次']"
      ]
     },
     "execution_count": 29,
     "metadata": {},
     "output_type": "execute_result"
    }
   ],
   "source": [
    "# produce row index for the dataframe\n",
    "col_name = list(range(int(n)+1))\n",
    "col_name = [x for x in col_name]\n",
    "col_name = ['下跌'+ str(x) +'次' for x in col_name]\n",
    "col_name"
   ]
  },
  {
   "cell_type": "code",
   "execution_count": 30,
   "metadata": {},
   "outputs": [
    {
     "data": {
      "text/html": [
       "<div>\n",
       "<style scoped>\n",
       "    .dataframe tbody tr th:only-of-type {\n",
       "        vertical-align: middle;\n",
       "    }\n",
       "\n",
       "    .dataframe tbody tr th {\n",
       "        vertical-align: top;\n",
       "    }\n",
       "\n",
       "    .dataframe thead th {\n",
       "        text-align: right;\n",
       "    }\n",
       "</style>\n",
       "<table border=\"1\" class=\"dataframe\">\n",
       "  <thead>\n",
       "    <tr style=\"text-align: right;\">\n",
       "      <th></th>\n",
       "      <th>下跌0次</th>\n",
       "      <th>下跌1次</th>\n",
       "      <th>下跌2次</th>\n",
       "      <th>下跌3次</th>\n",
       "    </tr>\n",
       "  </thead>\n",
       "  <tbody>\n",
       "    <tr>\n",
       "      <th>第0期</th>\n",
       "      <td>0</td>\n",
       "      <td>0</td>\n",
       "      <td>0</td>\n",
       "      <td>0</td>\n",
       "    </tr>\n",
       "    <tr>\n",
       "      <th>第1期</th>\n",
       "      <td>0</td>\n",
       "      <td>0</td>\n",
       "      <td>0</td>\n",
       "      <td>0</td>\n",
       "    </tr>\n",
       "    <tr>\n",
       "      <th>第2期</th>\n",
       "      <td>0</td>\n",
       "      <td>0</td>\n",
       "      <td>0</td>\n",
       "      <td>0</td>\n",
       "    </tr>\n",
       "    <tr>\n",
       "      <th>第3期</th>\n",
       "      <td>0</td>\n",
       "      <td>0</td>\n",
       "      <td>0</td>\n",
       "      <td>0</td>\n",
       "    </tr>\n",
       "  </tbody>\n",
       "</table>\n",
       "</div>"
      ],
      "text/plain": [
       "     下跌0次  下跌1次  下跌2次  下跌3次\n",
       "第0期     0     0     0     0\n",
       "第1期     0     0     0     0\n",
       "第2期     0     0     0     0\n",
       "第3期     0     0     0     0"
      ]
     },
     "execution_count": 30,
     "metadata": {},
     "output_type": "execute_result"
    }
   ],
   "source": [
    "df_StockPrice = pd.DataFrame(index=row_name, columns=col_name)\n",
    "df_StockPrice = df_StockPrice.fillna(0) # with 0s rather than NaNs\n",
    "df_StockPrice"
   ]
  },
  {
   "cell_type": "code",
   "execution_count": 61,
   "metadata": {},
   "outputs": [
    {
     "data": {
      "text/html": [
       "<div>\n",
       "<style scoped>\n",
       "    .dataframe tbody tr th:only-of-type {\n",
       "        vertical-align: middle;\n",
       "    }\n",
       "\n",
       "    .dataframe tbody tr th {\n",
       "        vertical-align: top;\n",
       "    }\n",
       "\n",
       "    .dataframe thead th {\n",
       "        text-align: right;\n",
       "    }\n",
       "</style>\n",
       "<table border=\"1\" class=\"dataframe\">\n",
       "  <thead>\n",
       "    <tr style=\"text-align: right;\">\n",
       "      <th></th>\n",
       "      <th>下跌0次</th>\n",
       "      <th>下跌1次</th>\n",
       "      <th>下跌2次</th>\n",
       "      <th>下跌3次</th>\n",
       "    </tr>\n",
       "  </thead>\n",
       "  <tbody>\n",
       "    <tr>\n",
       "      <th>第0期</th>\n",
       "      <td>160.0</td>\n",
       "      <td>NA</td>\n",
       "      <td>NA</td>\n",
       "      <td>NA</td>\n",
       "    </tr>\n",
       "    <tr>\n",
       "      <th>第1期</th>\n",
       "      <td>240.0</td>\n",
       "      <td>80</td>\n",
       "      <td>NA</td>\n",
       "      <td>NA</td>\n",
       "    </tr>\n",
       "    <tr>\n",
       "      <th>第2期</th>\n",
       "      <td>360.0</td>\n",
       "      <td>120</td>\n",
       "      <td>40</td>\n",
       "      <td>NA</td>\n",
       "    </tr>\n",
       "    <tr>\n",
       "      <th>第3期</th>\n",
       "      <td>540.0</td>\n",
       "      <td>180</td>\n",
       "      <td>60</td>\n",
       "      <td>20</td>\n",
       "    </tr>\n",
       "  </tbody>\n",
       "</table>\n",
       "</div>"
      ],
      "text/plain": [
       "      下跌0次 下跌1次 下跌2次 下跌3次\n",
       "第0期  160.0   NA   NA   NA\n",
       "第1期  240.0   80   NA   NA\n",
       "第2期  360.0  120   40   NA\n",
       "第3期  540.0  180   60   20"
      ]
     },
     "execution_count": 61,
     "metadata": {},
     "output_type": "execute_result"
    }
   ],
   "source": [
    "for i in list(range(len(row_name))):\n",
    "    for j in list(range(len(row_name))):\n",
    "        if i<j:\n",
    "            df_StockPrice.iloc[i,j] = str('NA')\n",
    "        else:\n",
    "            df_StockPrice.iloc[i,j] = S*u**(i-j)*d**j\n",
    "df_StockPrice"
   ]
  },
  {
   "cell_type": "markdown",
   "metadata": {},
   "source": [
    "## Step 3\n",
    "根據前面每一期計算出來的股價，計算該期**Call的價值(價格)**"
   ]
  },
  {
   "cell_type": "code",
   "execution_count": 11,
   "metadata": {},
   "outputs": [
    {
     "data": {
      "text/plain": [
       "['第0期', '第1期', '第2期', '第3期']"
      ]
     },
     "execution_count": 11,
     "metadata": {},
     "output_type": "execute_result"
    }
   ],
   "source": [
    "# produce row index for the dataframe\n",
    "row_name = list(range(int(n)+1))\n",
    "row_name = [x for x in row_name]\n",
    "row_name = ['第'+ str(x) +'期' for x in row_name]\n",
    "row_name"
   ]
  },
  {
   "cell_type": "code",
   "execution_count": 12,
   "metadata": {},
   "outputs": [
    {
     "data": {
      "text/plain": [
       "['下跌0次', '下跌1次', '下跌2次', '下跌3次']"
      ]
     },
     "execution_count": 12,
     "metadata": {},
     "output_type": "execute_result"
    }
   ],
   "source": [
    "# produce row index for the dataframe\n",
    "col_name = list(range(int(n)+1))\n",
    "col_name = [x for x in col_name]\n",
    "col_name = ['下跌'+ str(x) +'次' for x in col_name]\n",
    "col_name"
   ]
  },
  {
   "cell_type": "code",
   "execution_count": 19,
   "metadata": {},
   "outputs": [
    {
     "data": {
      "text/html": [
       "<div>\n",
       "<style scoped>\n",
       "    .dataframe tbody tr th:only-of-type {\n",
       "        vertical-align: middle;\n",
       "    }\n",
       "\n",
       "    .dataframe tbody tr th {\n",
       "        vertical-align: top;\n",
       "    }\n",
       "\n",
       "    .dataframe thead th {\n",
       "        text-align: right;\n",
       "    }\n",
       "</style>\n",
       "<table border=\"1\" class=\"dataframe\">\n",
       "  <thead>\n",
       "    <tr style=\"text-align: right;\">\n",
       "      <th></th>\n",
       "      <th>下跌0次</th>\n",
       "      <th>下跌1次</th>\n",
       "      <th>下跌2次</th>\n",
       "      <th>下跌3次</th>\n",
       "    </tr>\n",
       "  </thead>\n",
       "  <tbody>\n",
       "    <tr>\n",
       "      <th>第0期</th>\n",
       "      <td>0</td>\n",
       "      <td>0</td>\n",
       "      <td>0</td>\n",
       "      <td>0</td>\n",
       "    </tr>\n",
       "    <tr>\n",
       "      <th>第1期</th>\n",
       "      <td>0</td>\n",
       "      <td>0</td>\n",
       "      <td>0</td>\n",
       "      <td>0</td>\n",
       "    </tr>\n",
       "    <tr>\n",
       "      <th>第2期</th>\n",
       "      <td>0</td>\n",
       "      <td>0</td>\n",
       "      <td>0</td>\n",
       "      <td>0</td>\n",
       "    </tr>\n",
       "    <tr>\n",
       "      <th>第3期</th>\n",
       "      <td>0</td>\n",
       "      <td>0</td>\n",
       "      <td>0</td>\n",
       "      <td>0</td>\n",
       "    </tr>\n",
       "  </tbody>\n",
       "</table>\n",
       "</div>"
      ],
      "text/plain": [
       "     下跌0次  下跌1次  下跌2次  下跌3次\n",
       "第0期     0     0     0     0\n",
       "第1期     0     0     0     0\n",
       "第2期     0     0     0     0\n",
       "第3期     0     0     0     0"
      ]
     },
     "execution_count": 19,
     "metadata": {},
     "output_type": "execute_result"
    }
   ],
   "source": [
    "import pandas as pd\n",
    "df_call = pd.DataFrame(index=row_name, columns=col_name)\n",
    "df_call = df_call.fillna(0) # with 0s rather than NaNs\n",
    "df_call"
   ]
  },
  {
   "cell_type": "code",
   "execution_count": 63,
   "metadata": {
    "scrolled": true
   },
   "outputs": [
    {
     "data": {
      "text/html": [
       "<div>\n",
       "<style scoped>\n",
       "    .dataframe tbody tr th:only-of-type {\n",
       "        vertical-align: middle;\n",
       "    }\n",
       "\n",
       "    .dataframe tbody tr th {\n",
       "        vertical-align: top;\n",
       "    }\n",
       "\n",
       "    .dataframe thead th {\n",
       "        text-align: right;\n",
       "    }\n",
       "</style>\n",
       "<table border=\"1\" class=\"dataframe\">\n",
       "  <thead>\n",
       "    <tr style=\"text-align: right;\">\n",
       "      <th></th>\n",
       "      <th>下跌0次</th>\n",
       "      <th>下跌1次</th>\n",
       "      <th>下跌2次</th>\n",
       "      <th>下跌3次</th>\n",
       "    </tr>\n",
       "  </thead>\n",
       "  <tbody>\n",
       "    <tr>\n",
       "      <th>第0期</th>\n",
       "      <td>85.0692</td>\n",
       "      <td>NA</td>\n",
       "      <td>NA</td>\n",
       "      <td>NA</td>\n",
       "    </tr>\n",
       "    <tr>\n",
       "      <th>第1期</th>\n",
       "      <td>141.458</td>\n",
       "      <td>10.2083</td>\n",
       "      <td>NA</td>\n",
       "      <td>NA</td>\n",
       "    </tr>\n",
       "    <tr>\n",
       "      <th>第2期</th>\n",
       "      <td>235</td>\n",
       "      <td>17.5</td>\n",
       "      <td>0</td>\n",
       "      <td>NA</td>\n",
       "    </tr>\n",
       "    <tr>\n",
       "      <th>第3期</th>\n",
       "      <td>390</td>\n",
       "      <td>30</td>\n",
       "      <td>0</td>\n",
       "      <td>0</td>\n",
       "    </tr>\n",
       "  </tbody>\n",
       "</table>\n",
       "</div>"
      ],
      "text/plain": [
       "        下跌0次     下跌1次 下跌2次 下跌3次\n",
       "第0期  85.0692       NA   NA   NA\n",
       "第1期  141.458  10.2083   NA   NA\n",
       "第2期      235     17.5    0   NA\n",
       "第3期      390       30    0    0"
      ]
     },
     "execution_count": 63,
     "metadata": {},
     "output_type": "execute_result"
    }
   ],
   "source": [
    "# 計算Call的價格\n",
    "for i in reversed(list(range(len(row_name)))):\n",
    "    for j in reversed(list(range(len(row_name)))):\n",
    "        if i<j:\n",
    "            df_call.iloc[i,j] = str('NA')\n",
    "        else:\n",
    "            if i == len(row_name)-1:\n",
    "                if (S*u**(i-j)*d**j)>X:\n",
    "                    df_call.iloc[i,j] = (S*u**(i-j)*d**j)-X\n",
    "                else:\n",
    "                    df_call.iloc[i,j] = 0\n",
    "            else:\n",
    "                df_call.iloc[i,j] = (p*df_call.iloc[i+1,j] + (1-p)*df_call.iloc[i+1,j+1])/R\n",
    "\n",
    "df_call"
   ]
  },
  {
   "cell_type": "markdown",
   "metadata": {},
   "source": [
    "## Step 4\n",
    "根據前面每一期計算出來的股價，計算該期**Put的價值(價格)**"
   ]
  },
  {
   "cell_type": "code",
   "execution_count": 23,
   "metadata": {},
   "outputs": [
    {
     "data": {
      "text/plain": [
       "['第0期', '第1期', '第2期', '第3期']"
      ]
     },
     "execution_count": 23,
     "metadata": {},
     "output_type": "execute_result"
    }
   ],
   "source": [
    "# produce row index for the dataframe\n",
    "row_name = list(range(int(n)+1))\n",
    "row_name = [x for x in row_name]\n",
    "row_name = ['第'+ str(x) +'期' for x in row_name]\n",
    "row_name"
   ]
  },
  {
   "cell_type": "code",
   "execution_count": 24,
   "metadata": {},
   "outputs": [
    {
     "data": {
      "text/plain": [
       "['下跌0次', '下跌1次', '下跌2次', '下跌3次']"
      ]
     },
     "execution_count": 24,
     "metadata": {},
     "output_type": "execute_result"
    }
   ],
   "source": [
    "# produce row index for the dataframe\n",
    "col_name = list(range(int(n)+1))\n",
    "col_name = [x for x in col_name]\n",
    "col_name = ['下跌'+ str(x) +'次' for x in col_name]\n",
    "col_name"
   ]
  },
  {
   "cell_type": "code",
   "execution_count": 25,
   "metadata": {},
   "outputs": [
    {
     "data": {
      "text/html": [
       "<div>\n",
       "<style scoped>\n",
       "    .dataframe tbody tr th:only-of-type {\n",
       "        vertical-align: middle;\n",
       "    }\n",
       "\n",
       "    .dataframe tbody tr th {\n",
       "        vertical-align: top;\n",
       "    }\n",
       "\n",
       "    .dataframe thead th {\n",
       "        text-align: right;\n",
       "    }\n",
       "</style>\n",
       "<table border=\"1\" class=\"dataframe\">\n",
       "  <thead>\n",
       "    <tr style=\"text-align: right;\">\n",
       "      <th></th>\n",
       "      <th>下跌0次</th>\n",
       "      <th>下跌1次</th>\n",
       "      <th>下跌2次</th>\n",
       "      <th>下跌3次</th>\n",
       "    </tr>\n",
       "  </thead>\n",
       "  <tbody>\n",
       "    <tr>\n",
       "      <th>第0期</th>\n",
       "      <td>0</td>\n",
       "      <td>0</td>\n",
       "      <td>0</td>\n",
       "      <td>0</td>\n",
       "    </tr>\n",
       "    <tr>\n",
       "      <th>第1期</th>\n",
       "      <td>0</td>\n",
       "      <td>0</td>\n",
       "      <td>0</td>\n",
       "      <td>0</td>\n",
       "    </tr>\n",
       "    <tr>\n",
       "      <th>第2期</th>\n",
       "      <td>0</td>\n",
       "      <td>0</td>\n",
       "      <td>0</td>\n",
       "      <td>0</td>\n",
       "    </tr>\n",
       "    <tr>\n",
       "      <th>第3期</th>\n",
       "      <td>0</td>\n",
       "      <td>0</td>\n",
       "      <td>0</td>\n",
       "      <td>0</td>\n",
       "    </tr>\n",
       "  </tbody>\n",
       "</table>\n",
       "</div>"
      ],
      "text/plain": [
       "     下跌0次  下跌1次  下跌2次  下跌3次\n",
       "第0期     0     0     0     0\n",
       "第1期     0     0     0     0\n",
       "第2期     0     0     0     0\n",
       "第3期     0     0     0     0"
      ]
     },
     "execution_count": 25,
     "metadata": {},
     "output_type": "execute_result"
    }
   ],
   "source": [
    "import pandas as pd\n",
    "df_put = pd.DataFrame(index=row_name, columns=col_name)\n",
    "df_put = df_put.fillna(0) # with 0s rather than NaNs\n",
    "df_put"
   ]
  },
  {
   "cell_type": "code",
   "execution_count": 69,
   "metadata": {
    "scrolled": true
   },
   "outputs": [
    {
     "data": {
      "text/html": [
       "<div>\n",
       "<style scoped>\n",
       "    .dataframe tbody tr th:only-of-type {\n",
       "        vertical-align: middle;\n",
       "    }\n",
       "\n",
       "    .dataframe tbody tr th {\n",
       "        vertical-align: top;\n",
       "    }\n",
       "\n",
       "    .dataframe thead th {\n",
       "        text-align: right;\n",
       "    }\n",
       "</style>\n",
       "<table border=\"1\" class=\"dataframe\">\n",
       "  <thead>\n",
       "    <tr style=\"text-align: right;\">\n",
       "      <th></th>\n",
       "      <th>下跌0次</th>\n",
       "      <th>下跌1次</th>\n",
       "      <th>下跌2次</th>\n",
       "      <th>下跌3次</th>\n",
       "    </tr>\n",
       "  </thead>\n",
       "  <tbody>\n",
       "    <tr>\n",
       "      <th>第0期</th>\n",
       "      <td>11.8752</td>\n",
       "      <td>NA</td>\n",
       "      <td>NA</td>\n",
       "      <td>NA</td>\n",
       "    </tr>\n",
       "    <tr>\n",
       "      <th>第1期</th>\n",
       "      <td>5.6251</td>\n",
       "      <td>34.3753</td>\n",
       "      <td>NA</td>\n",
       "      <td>NA</td>\n",
       "    </tr>\n",
       "    <tr>\n",
       "      <th>第2期</th>\n",
       "      <td>0.0000</td>\n",
       "      <td>22.5002</td>\n",
       "      <td>85.0002</td>\n",
       "      <td>NA</td>\n",
       "    </tr>\n",
       "    <tr>\n",
       "      <th>第3期</th>\n",
       "      <td>0.0000</td>\n",
       "      <td>0</td>\n",
       "      <td>90</td>\n",
       "      <td>130</td>\n",
       "    </tr>\n",
       "  </tbody>\n",
       "</table>\n",
       "</div>"
      ],
      "text/plain": [
       "        下跌0次     下跌1次     下跌2次 下跌3次\n",
       "第0期  11.8752       NA       NA   NA\n",
       "第1期   5.6251  34.3753       NA   NA\n",
       "第2期   0.0000  22.5002  85.0002   NA\n",
       "第3期   0.0000        0       90  130"
      ]
     },
     "execution_count": 69,
     "metadata": {},
     "output_type": "execute_result"
    }
   ],
   "source": [
    "# 計算Put的價格\n",
    "for i in reversed(list(range(len(row_name)))):\n",
    "    for j in reversed(list(range(len(row_name)))):\n",
    "        if i<j:\n",
    "            df_put.iloc[i,j] = str('NA')\n",
    "        else:\n",
    "            if i == len(row_name)-1:\n",
    "                if (S*u**(i-j)*d**j)<X:\n",
    "                    df_put.iloc[i,j] = X-(S*u**(i-j)*d**j)\n",
    "                else:\n",
    "                    df_put.iloc[i,j] = 0\n",
    "            else:\n",
    "                df_put.iloc[i,j] = (p*df_put.iloc[i+1,j] + (1-p)*df_put.iloc[i+1,j+1])/R\n",
    "\n",
    "df_put = df_put.round(4)\n",
    "df_put"
   ]
  },
  {
   "cell_type": "code",
   "execution_count": 70,
   "metadata": {},
   "outputs": [
    {
     "data": {
      "text/html": [
       "<div>\n",
       "<style scoped>\n",
       "    .dataframe tbody tr th:only-of-type {\n",
       "        vertical-align: middle;\n",
       "    }\n",
       "\n",
       "    .dataframe tbody tr th {\n",
       "        vertical-align: top;\n",
       "    }\n",
       "\n",
       "    .dataframe thead tr th {\n",
       "        text-align: left;\n",
       "    }\n",
       "</style>\n",
       "<table border=\"1\" class=\"dataframe\">\n",
       "  <thead>\n",
       "    <tr>\n",
       "      <th></th>\n",
       "      <th colspan=\"4\" halign=\"left\">Stock Price</th>\n",
       "      <th colspan=\"4\" halign=\"left\">Call Value</th>\n",
       "      <th colspan=\"4\" halign=\"left\">Put Value</th>\n",
       "    </tr>\n",
       "    <tr>\n",
       "      <th></th>\n",
       "      <th>下跌0次</th>\n",
       "      <th>下跌1次</th>\n",
       "      <th>下跌2次</th>\n",
       "      <th>下跌3次</th>\n",
       "      <th>下跌0次</th>\n",
       "      <th>下跌1次</th>\n",
       "      <th>下跌2次</th>\n",
       "      <th>下跌3次</th>\n",
       "      <th>下跌0次</th>\n",
       "      <th>下跌1次</th>\n",
       "      <th>下跌2次</th>\n",
       "      <th>下跌3次</th>\n",
       "    </tr>\n",
       "  </thead>\n",
       "  <tbody>\n",
       "    <tr>\n",
       "      <th>第0期</th>\n",
       "      <td>160.0</td>\n",
       "      <td>NA</td>\n",
       "      <td>NA</td>\n",
       "      <td>NA</td>\n",
       "      <td>85.0692</td>\n",
       "      <td>NA</td>\n",
       "      <td>NA</td>\n",
       "      <td>NA</td>\n",
       "      <td>11.8752</td>\n",
       "      <td>NA</td>\n",
       "      <td>NA</td>\n",
       "      <td>NA</td>\n",
       "    </tr>\n",
       "    <tr>\n",
       "      <th>第1期</th>\n",
       "      <td>240.0</td>\n",
       "      <td>80</td>\n",
       "      <td>NA</td>\n",
       "      <td>NA</td>\n",
       "      <td>141.458</td>\n",
       "      <td>10.2083</td>\n",
       "      <td>NA</td>\n",
       "      <td>NA</td>\n",
       "      <td>5.6251</td>\n",
       "      <td>34.3753</td>\n",
       "      <td>NA</td>\n",
       "      <td>NA</td>\n",
       "    </tr>\n",
       "    <tr>\n",
       "      <th>第2期</th>\n",
       "      <td>360.0</td>\n",
       "      <td>120</td>\n",
       "      <td>40</td>\n",
       "      <td>NA</td>\n",
       "      <td>235</td>\n",
       "      <td>17.5</td>\n",
       "      <td>0</td>\n",
       "      <td>NA</td>\n",
       "      <td>0.0000</td>\n",
       "      <td>22.5002</td>\n",
       "      <td>85.0002</td>\n",
       "      <td>NA</td>\n",
       "    </tr>\n",
       "    <tr>\n",
       "      <th>第3期</th>\n",
       "      <td>540.0</td>\n",
       "      <td>180</td>\n",
       "      <td>60</td>\n",
       "      <td>20</td>\n",
       "      <td>390</td>\n",
       "      <td>30</td>\n",
       "      <td>0</td>\n",
       "      <td>0</td>\n",
       "      <td>0.0000</td>\n",
       "      <td>0</td>\n",
       "      <td>90</td>\n",
       "      <td>130</td>\n",
       "    </tr>\n",
       "  </tbody>\n",
       "</table>\n",
       "</div>"
      ],
      "text/plain": [
       "    Stock Price                Call Value                    Put Value  \\\n",
       "           下跌0次 下跌1次 下跌2次 下跌3次       下跌0次     下跌1次 下跌2次 下跌3次      下跌0次   \n",
       "第0期       160.0   NA   NA   NA    85.0692       NA   NA   NA   11.8752   \n",
       "第1期       240.0   80   NA   NA    141.458  10.2083   NA   NA    5.6251   \n",
       "第2期       360.0  120   40   NA        235     17.5    0   NA    0.0000   \n",
       "第3期       540.0  180   60   20        390       30    0    0    0.0000   \n",
       "\n",
       "                            \n",
       "        下跌1次     下跌2次 下跌3次  \n",
       "第0期       NA       NA   NA  \n",
       "第1期  34.3753       NA   NA  \n",
       "第2期  22.5002  85.0002   NA  \n",
       "第3期        0       90  130  "
      ]
     },
     "execution_count": 70,
     "metadata": {},
     "output_type": "execute_result"
    }
   ],
   "source": [
    "dfs = [df_StockPrice, df_call, df_put]\n",
    "\n",
    "df_combined = pd.concat(\n",
    "    [df.rename(columns=lambda x: x.zfill(4)) for df in dfs],\n",
    "    keys=['Stock Price','Call Value', 'Put Value'],\n",
    "    axis=1\n",
    ")\n",
    "\n",
    "df_combined"
   ]
  }
 ],
 "metadata": {
  "kernelspec": {
   "display_name": "Python 3",
   "language": "python",
   "name": "python3"
  },
  "language_info": {
   "codemirror_mode": {
    "name": "ipython",
    "version": 3
   },
   "file_extension": ".py",
   "mimetype": "text/x-python",
   "name": "python",
   "nbconvert_exporter": "python",
   "pygments_lexer": "ipython3",
   "version": "3.7.3"
  }
 },
 "nbformat": 4,
 "nbformat_minor": 4
}
