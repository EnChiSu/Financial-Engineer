{
 "cells": [
  {
   "cell_type": "markdown",
   "metadata": {},
   "source": [
    "##  The overall work flow can be seperated into 3 three section as below.\n",
    "\n",
    "1. 透過使用者輸入的各項參數，回推這支債券的殖利率。\n",
    "2. 因為一年期的債券沒有複利，所以殖利率等於即期利率，故透過此關係可以推出下一期即期利率。\n",
    "3. 透過即期利率再去推遠期利率。\n"
   ]
  },
  {
   "cell_type": "markdown",
   "metadata": {},
   "source": [
    "Note:<br>\n",
    "Our goal is to generate Forward Rates between different periods of time. (As the image below shows. If you can't see the image, please refresh again.)\n",
    "\n",
    "![](https://drive.google.com/uc?export=view&id=1XkOBw8zvAyEKaPCP17GyMF1bHbWqFXEu)"
   ]
  },
  {
   "cell_type": "markdown",
   "metadata": {},
   "source": [
    "## Section 1:\n",
    "透過使用者輸入的各項參數，回推這支債券的殖利率。"
   ]
  },
  {
   "cell_type": "markdown",
   "metadata": {},
   "source": [
    "### Step 1:  \n",
    " Ask users to input Current Bond Price, Bond Par Value, Bond Coupon Rate, Years to Maturity, and frequency of payment per year respectively."
   ]
  },
  {
   "cell_type": "code",
   "execution_count": null,
   "metadata": {},
   "outputs": [],
   "source": [
    "print(\"What is the Current Bond Price?\")\n",
    "price = float(input())\n",
    "print(\"What is the Bond Par Value?\")\n",
    "par = float(input())\n",
    "print(\"What is the Bond Coupon Rate (% p.a.)\")\n",
    "cr = float(input())\n",
    "print(\"How long is the Years to Maturity\")\n",
    "n = float(input())\n",
    "print(\"How frequent is the Payment per year\")\n",
    "freq = float(input())"
   ]
  },
  {
   "cell_type": "code",
   "execution_count": 19,
   "metadata": {},
   "outputs": [],
   "source": [
    "# assume the user input Current Bond Price = 1029, Bond Par Value = 1000, Bond Coupon Rate = 5%, Years to Maturity=1.5, and frequency of payment per year=2.\n",
    "price=1029 #使得YTM可以是3%，跟綠角那篇文章提供的例子相同\n",
    "par=1000\n",
    "cr=5\n",
    "n=2\n",
    "freq=2"
   ]
  },
  {
   "cell_type": "markdown",
   "metadata": {},
   "source": [
    "### Step 2:\n",
    "Calculate YTM of the bond base on the input of the user.\n"
   ]
  },
  {
   "cell_type": "code",
   "execution_count": 2,
   "metadata": {},
   "outputs": [
    {
     "name": "stdout",
     "output_type": "stream",
     "text": [
      "0.034862654986864326\n"
     ]
    }
   ],
   "source": [
    "import scipy.optimize as optimize\n",
    "\n",
    "def bond_ytm(price, par, n, cr, freq, guess=0.05):\n",
    "    freq = float(freq)\n",
    "    periods = n*freq\n",
    "    coupon = cr/100.*par/freq\n",
    "    dt = [(i+1)/freq for i in range(int(periods))]\n",
    "    ytm_func = lambda y: sum([coupon/(1+y/freq)**(freq*t) for t in dt]) + par/(1+y/freq)**(freq*n) - price\n",
    "        \n",
    "    return optimize.newton(ytm_func, guess)\n",
    "\n",
    "if __name__ == \"__main__\":\n",
    "    ytm = bond_ytm(price=price, par=par, n=n, cr=cr, freq=freq)\n",
    "    print(ytm)"
   ]
  },
  {
   "cell_type": "markdown",
   "metadata": {},
   "source": [
    "## Section 2:\n",
    "因為一年期的債券沒有複利，所以殖利率等於即期利率，故透過此關係可以推出下一期即期利率。"
   ]
  },
  {
   "cell_type": "markdown",
   "metadata": {},
   "source": [
    "### Step 3:\n",
    "Calculate the spot rate."
   ]
  },
  {
   "cell_type": "code",
   "execution_count": 5,
   "metadata": {},
   "outputs": [
    {
     "name": "stdout",
     "output_type": "stream",
     "text": [
      "0.03541966263835964\n"
     ]
    }
   ],
   "source": [
    "import scipy.optimize as optimize\n",
    "\n",
    "def spot(price, par, n, cr, freq, guess=0.05):\n",
    "    freq = float(freq)\n",
    "    periods = n*freq\n",
    "    coupon = cr/100.*par/freq\n",
    "    dt = [(i+1)/freq for i in range(int(periods)-1)]\n",
    "    spot_func = lambda x: price - sum([coupon/(1+ytm/n/freq*t)**(freq*t) for t in dt]) - (par+coupon)/(1+x)**(freq*n)\n",
    "    return optimize.newton(spot_func, guess)\n",
    "\n",
    "if __name__ == \"__main__\":\n",
    "    s = spot(price=price, par=par, n=n, cr=cr, freq=freq)*freq\n",
    "    print(s)"
   ]
  },
  {
   "cell_type": "markdown",
   "metadata": {},
   "source": [
    "### Step 4:\n",
    "Create an empty dataframe to store values."
   ]
  },
  {
   "cell_type": "code",
   "execution_count": 15,
   "metadata": {},
   "outputs": [
    {
     "data": {
      "text/plain": [
       "['第0期', '第1期', '第2期', '第3期', '第4期']"
      ]
     },
     "execution_count": 15,
     "metadata": {},
     "output_type": "execute_result"
    }
   ],
   "source": [
    "# produce row index for the dataframe\n",
    "row_name = list(range(int(n*freq)+1))\n",
    "row_name = [x for x in row_name]\n",
    "row_name = ['第'+ str(x) +'期' for x in row_name]\n",
    "row_name"
   ]
  },
  {
   "cell_type": "code",
   "execution_count": 16,
   "metadata": {},
   "outputs": [
    {
     "data": {
      "text/html": [
       "<div>\n",
       "<style scoped>\n",
       "    .dataframe tbody tr th:only-of-type {\n",
       "        vertical-align: middle;\n",
       "    }\n",
       "\n",
       "    .dataframe tbody tr th {\n",
       "        vertical-align: top;\n",
       "    }\n",
       "\n",
       "    .dataframe thead th {\n",
       "        text-align: right;\n",
       "    }\n",
       "</style>\n",
       "<table border=\"1\" class=\"dataframe\">\n",
       "  <thead>\n",
       "    <tr style=\"text-align: right;\">\n",
       "      <th></th>\n",
       "      <th>第0期</th>\n",
       "      <th>第1期</th>\n",
       "      <th>第2期</th>\n",
       "      <th>第3期</th>\n",
       "      <th>第4期</th>\n",
       "    </tr>\n",
       "  </thead>\n",
       "  <tbody>\n",
       "    <tr>\n",
       "      <th>第0期</th>\n",
       "      <td>0</td>\n",
       "      <td>0</td>\n",
       "      <td>0</td>\n",
       "      <td>0</td>\n",
       "      <td>0</td>\n",
       "    </tr>\n",
       "    <tr>\n",
       "      <th>第1期</th>\n",
       "      <td>0</td>\n",
       "      <td>0</td>\n",
       "      <td>0</td>\n",
       "      <td>0</td>\n",
       "      <td>0</td>\n",
       "    </tr>\n",
       "    <tr>\n",
       "      <th>第2期</th>\n",
       "      <td>0</td>\n",
       "      <td>0</td>\n",
       "      <td>0</td>\n",
       "      <td>0</td>\n",
       "      <td>0</td>\n",
       "    </tr>\n",
       "    <tr>\n",
       "      <th>第3期</th>\n",
       "      <td>0</td>\n",
       "      <td>0</td>\n",
       "      <td>0</td>\n",
       "      <td>0</td>\n",
       "      <td>0</td>\n",
       "    </tr>\n",
       "    <tr>\n",
       "      <th>第4期</th>\n",
       "      <td>0</td>\n",
       "      <td>0</td>\n",
       "      <td>0</td>\n",
       "      <td>0</td>\n",
       "      <td>0</td>\n",
       "    </tr>\n",
       "  </tbody>\n",
       "</table>\n",
       "</div>"
      ],
      "text/plain": [
       "     第0期  第1期  第2期  第3期  第4期\n",
       "第0期    0    0    0    0    0\n",
       "第1期    0    0    0    0    0\n",
       "第2期    0    0    0    0    0\n",
       "第3期    0    0    0    0    0\n",
       "第4期    0    0    0    0    0"
      ]
     },
     "execution_count": 16,
     "metadata": {},
     "output_type": "execute_result"
    }
   ],
   "source": [
    "import pandas as pd\n",
    "df2 = pd.DataFrame(index=row_name, columns=row_name)\n",
    "df2 = df2.fillna(0) # with 0s rather than NaNs\n",
    "df2"
   ]
  },
  {
   "cell_type": "code",
   "execution_count": 17,
   "metadata": {},
   "outputs": [
    {
     "data": {
      "text/html": [
       "<div>\n",
       "<style scoped>\n",
       "    .dataframe tbody tr th:only-of-type {\n",
       "        vertical-align: middle;\n",
       "    }\n",
       "\n",
       "    .dataframe tbody tr th {\n",
       "        vertical-align: top;\n",
       "    }\n",
       "\n",
       "    .dataframe thead th {\n",
       "        text-align: right;\n",
       "    }\n",
       "</style>\n",
       "<table border=\"1\" class=\"dataframe\">\n",
       "  <thead>\n",
       "    <tr style=\"text-align: right;\">\n",
       "      <th></th>\n",
       "      <th>第0期</th>\n",
       "      <th>第1期</th>\n",
       "      <th>第2期</th>\n",
       "      <th>第3期</th>\n",
       "      <th>第4期</th>\n",
       "    </tr>\n",
       "  </thead>\n",
       "  <tbody>\n",
       "    <tr>\n",
       "      <th>第0期</th>\n",
       "      <td>0</td>\n",
       "      <td>0</td>\n",
       "      <td>0</td>\n",
       "      <td>0</td>\n",
       "      <td>0</td>\n",
       "    </tr>\n",
       "    <tr>\n",
       "      <th>第1期</th>\n",
       "      <td>X</td>\n",
       "      <td>0</td>\n",
       "      <td>0</td>\n",
       "      <td>0</td>\n",
       "      <td>0</td>\n",
       "    </tr>\n",
       "    <tr>\n",
       "      <th>第2期</th>\n",
       "      <td>X</td>\n",
       "      <td>X</td>\n",
       "      <td>0</td>\n",
       "      <td>0</td>\n",
       "      <td>0</td>\n",
       "    </tr>\n",
       "    <tr>\n",
       "      <th>第3期</th>\n",
       "      <td>X</td>\n",
       "      <td>X</td>\n",
       "      <td>X</td>\n",
       "      <td>0</td>\n",
       "      <td>0</td>\n",
       "    </tr>\n",
       "    <tr>\n",
       "      <th>第4期</th>\n",
       "      <td>X</td>\n",
       "      <td>X</td>\n",
       "      <td>X</td>\n",
       "      <td>X</td>\n",
       "      <td>0</td>\n",
       "    </tr>\n",
       "  </tbody>\n",
       "</table>\n",
       "</div>"
      ],
      "text/plain": [
       "    第0期 第1期 第2期 第3期 第4期\n",
       "第0期   0   0   0   0   0\n",
       "第1期   X   0   0   0   0\n",
       "第2期   X   X   0   0   0\n",
       "第3期   X   X   X   0   0\n",
       "第4期   X   X   X   X   0"
      ]
     },
     "execution_count": 17,
     "metadata": {},
     "output_type": "execute_result"
    }
   ],
   "source": [
    "for i in list(range(len(row_name))):\n",
    "    for j in list(range(len(row_name))):\n",
    "        if i>j:\n",
    "            df2.iloc[i,j] = str('X')\n",
    "        elif i==j:\n",
    "            df2.iloc[i,j] = str('0')\n",
    "df2"
   ]
  },
  {
   "cell_type": "markdown",
   "metadata": {},
   "source": [
    "### Step 5:\n",
    "Store the spot rate calculated above into the first row."
   ]
  },
  {
   "cell_type": "code",
   "execution_count": 18,
   "metadata": {},
   "outputs": [
    {
     "data": {
      "text/html": [
       "<div>\n",
       "<style scoped>\n",
       "    .dataframe tbody tr th:only-of-type {\n",
       "        vertical-align: middle;\n",
       "    }\n",
       "\n",
       "    .dataframe tbody tr th {\n",
       "        vertical-align: top;\n",
       "    }\n",
       "\n",
       "    .dataframe thead th {\n",
       "        text-align: right;\n",
       "    }\n",
       "</style>\n",
       "<table border=\"1\" class=\"dataframe\">\n",
       "  <thead>\n",
       "    <tr style=\"text-align: right;\">\n",
       "      <th></th>\n",
       "      <th>第0期</th>\n",
       "      <th>第1期</th>\n",
       "      <th>第2期</th>\n",
       "      <th>第3期</th>\n",
       "      <th>第4期</th>\n",
       "    </tr>\n",
       "  </thead>\n",
       "  <tbody>\n",
       "    <tr>\n",
       "      <th>第0期</th>\n",
       "      <td>0</td>\n",
       "      <td>0.00871566</td>\n",
       "      <td>0.0174693</td>\n",
       "      <td>0.0262611</td>\n",
       "      <td>0.0354197</td>\n",
       "    </tr>\n",
       "    <tr>\n",
       "      <th>第1期</th>\n",
       "      <td>X</td>\n",
       "      <td>0</td>\n",
       "      <td>0</td>\n",
       "      <td>0</td>\n",
       "      <td>0</td>\n",
       "    </tr>\n",
       "    <tr>\n",
       "      <th>第2期</th>\n",
       "      <td>X</td>\n",
       "      <td>X</td>\n",
       "      <td>0</td>\n",
       "      <td>0</td>\n",
       "      <td>0</td>\n",
       "    </tr>\n",
       "    <tr>\n",
       "      <th>第3期</th>\n",
       "      <td>X</td>\n",
       "      <td>X</td>\n",
       "      <td>X</td>\n",
       "      <td>0</td>\n",
       "      <td>0</td>\n",
       "    </tr>\n",
       "    <tr>\n",
       "      <th>第4期</th>\n",
       "      <td>X</td>\n",
       "      <td>X</td>\n",
       "      <td>X</td>\n",
       "      <td>X</td>\n",
       "      <td>0</td>\n",
       "    </tr>\n",
       "  </tbody>\n",
       "</table>\n",
       "</div>"
      ],
      "text/plain": [
       "    第0期         第1期        第2期        第3期        第4期\n",
       "第0期   0  0.00871566  0.0174693  0.0262611  0.0354197\n",
       "第1期   X           0          0          0          0\n",
       "第2期   X           X          0          0          0\n",
       "第3期   X           X          X          0          0\n",
       "第4期   X           X          X          X          0"
      ]
     },
     "execution_count": 18,
     "metadata": {},
     "output_type": "execute_result"
    }
   ],
   "source": [
    "dt = [(i+1)/freq for i in range(int(n*freq)-1)]\n",
    "for i in list(range(int(n*freq))):\n",
    "    if i==0:\n",
    "        df2.iloc[0, int(i)] = 0\n",
    "    else:\n",
    "        df2.iloc[0, int(i)] = [((1+ytm/n/freq/freq)**(freq*t)-1)*freq for t in dt][int(i-1)]\n",
    "\n",
    "df2.iloc[0,int(n*freq)] = s\n",
    "df2"
   ]
  },
  {
   "cell_type": "markdown",
   "metadata": {},
   "source": [
    "## Section 3:\n",
    "透過即期利率再去推遠期利率。"
   ]
  },
  {
   "cell_type": "markdown",
   "metadata": {},
   "source": [
    "### Step 6:\n",
    "Calculate the forward rate from the spot rate, and store into the dataframe."
   ]
  },
  {
   "cell_type": "code",
   "execution_count": 11,
   "metadata": {},
   "outputs": [],
   "source": [
    "for i in list(range(len(row_name))):\n",
    "    for j in list(range(len(row_name))):\n",
    "        if j>i and i!=0:\n",
    "            df2.iloc[i,j] = freq*(((1+df2.iloc[i-1,j]/freq)**j/(1+df2.iloc[i-1,j-1]/freq)**i)**(1/(j-i))-1)"
   ]
  },
  {
   "cell_type": "code",
   "execution_count": 12,
   "metadata": {},
   "outputs": [
    {
     "data": {
      "text/html": [
       "<div>\n",
       "<style scoped>\n",
       "    .dataframe tbody tr th:only-of-type {\n",
       "        vertical-align: middle;\n",
       "    }\n",
       "\n",
       "    .dataframe tbody tr th {\n",
       "        vertical-align: top;\n",
       "    }\n",
       "\n",
       "    .dataframe thead th {\n",
       "        text-align: right;\n",
       "    }\n",
       "</style>\n",
       "<table border=\"1\" class=\"dataframe\">\n",
       "  <thead>\n",
       "    <tr style=\"text-align: right;\">\n",
       "      <th></th>\n",
       "      <th>第0期</th>\n",
       "      <th>第1期</th>\n",
       "      <th>第2期</th>\n",
       "      <th>第3期</th>\n",
       "      <th>第4期</th>\n",
       "    </tr>\n",
       "  </thead>\n",
       "  <tbody>\n",
       "    <tr>\n",
       "      <th>第0期</th>\n",
       "      <td>0</td>\n",
       "      <td>0.00871566</td>\n",
       "      <td>0.0174693</td>\n",
       "      <td>0.0262611</td>\n",
       "      <td>0.0354197</td>\n",
       "    </tr>\n",
       "    <tr>\n",
       "      <th>第1期</th>\n",
       "      <td>X</td>\n",
       "      <td>0</td>\n",
       "      <td>0.0262611</td>\n",
       "      <td>0.0306714</td>\n",
       "      <td>0.0384817</td>\n",
       "    </tr>\n",
       "    <tr>\n",
       "      <th>第2期</th>\n",
       "      <td>X</td>\n",
       "      <td>X</td>\n",
       "      <td>0</td>\n",
       "      <td>0.0395207</td>\n",
       "      <td>0.0463221</td>\n",
       "    </tr>\n",
       "    <tr>\n",
       "      <th>第3期</th>\n",
       "      <td>X</td>\n",
       "      <td>X</td>\n",
       "      <td>X</td>\n",
       "      <td>0</td>\n",
       "      <td>0.0668628</td>\n",
       "    </tr>\n",
       "    <tr>\n",
       "      <th>第4期</th>\n",
       "      <td>X</td>\n",
       "      <td>X</td>\n",
       "      <td>X</td>\n",
       "      <td>X</td>\n",
       "      <td>0</td>\n",
       "    </tr>\n",
       "  </tbody>\n",
       "</table>\n",
       "</div>"
      ],
      "text/plain": [
       "    第0期         第1期        第2期        第3期        第4期\n",
       "第0期   0  0.00871566  0.0174693  0.0262611  0.0354197\n",
       "第1期   X           0  0.0262611  0.0306714  0.0384817\n",
       "第2期   X           X          0  0.0395207  0.0463221\n",
       "第3期   X           X          X          0  0.0668628\n",
       "第4期   X           X          X          X          0"
      ]
     },
     "execution_count": 12,
     "metadata": {},
     "output_type": "execute_result"
    }
   ],
   "source": [
    "df2"
   ]
  }
 ],
 "metadata": {
  "kernelspec": {
   "display_name": "Python 3",
   "language": "python",
   "name": "python3"
  },
  "language_info": {
   "codemirror_mode": {
    "name": "ipython",
    "version": 3
   },
   "file_extension": ".py",
   "mimetype": "text/x-python",
   "name": "python",
   "nbconvert_exporter": "python",
   "pygments_lexer": "ipython3",
   "version": "3.7.3"
  }
 },
 "nbformat": 4,
 "nbformat_minor": 4
}
